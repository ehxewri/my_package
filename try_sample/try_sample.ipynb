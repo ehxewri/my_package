{
 "cells": [
  {
   "cell_type": "markdown",
   "metadata": {},
   "source": [
    "### Import Required Libraries and Set Up Environment Variables"
   ]
  },
  {
   "cell_type": "code",
   "execution_count": 1,
   "metadata": {},
   "outputs": [],
   "source": [
    "# Dependencies\n",
    "import requests\n",
    "import time\n",
    "from   dotenv import load_dotenv\n",
    "import os\n",
    "import pandas as pd\n",
    "import json\n",
    "import re"
   ]
  },
  {
   "cell_type": "code",
   "execution_count": 6,
   "metadata": {},
   "outputs": [
    {
     "name": "stdout",
     "output_type": "stream",
     "text": [
      "NYT and TMDB keys retieved from .env\n"
     ]
    }
   ],
   "source": [
    "# Set environment variables from the .env in the local environment\n",
    "\n",
    "try:\n",
    "    load_dotenv()   \n",
    "    nyt_api_key = os.getenv(\"NYT_API_KEY\")\n",
    "    tmdb_api_key = os.getenv(\"TMDB_API_KEY\")\n",
    "    if nyt_api_key == None:\n",
    "        print ('nyt_api_key not found in .env file')\n",
    "    elif tmdb_api_key == None:\n",
    "        print ('tmdb_api_key not found in .env file')\n",
    "    else:\n",
    "        print('NYT and TMDB keys retieved from .env')\n",
    "    \n",
    "except Exception as e:\n",
    "        # Handle potential errors in the request or data processing\n",
    "        print(f'An error occurred: {e}')"
   ]
  }
 ],
 "metadata": {
  "kernelspec": {
   "display_name": "dev",
   "language": "python",
   "name": "dev"
  },
  "language_info": {
   "codemirror_mode": {
    "name": "ipython",
    "version": 3
   },
   "file_extension": ".py",
   "mimetype": "text/x-python",
   "name": "python",
   "nbconvert_exporter": "python",
   "pygments_lexer": "ipython3",
   "version": "3.10.13"
  },
  "varInspector": {
   "cols": {
    "lenName": 16,
    "lenType": 16,
    "lenVar": 40
   },
   "kernels_config": {
    "python": {
     "delete_cmd_postfix": "",
     "delete_cmd_prefix": "del ",
     "library": "var_list.py",
     "varRefreshCmd": "print(var_dic_list())"
    },
    "r": {
     "delete_cmd_postfix": ") ",
     "delete_cmd_prefix": "rm(",
     "library": "var_list.r",
     "varRefreshCmd": "cat(var_dic_list()) "
    }
   },
   "types_to_exclude": [
    "module",
    "function",
    "builtin_function_or_method",
    "instance",
    "_Feature"
   ],
   "window_display": false
  }
 },
 "nbformat": 4,
 "nbformat_minor": 2
}
